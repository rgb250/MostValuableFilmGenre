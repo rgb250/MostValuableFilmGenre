{
 "cells": [
  {
   "cell_type": "markdown",
   "metadata": {},
   "source": [
    "# Preprocessing Functions\n",
    "\n",
    "@author: Régis Gbenou <br> \n",
    "@email:  regis.gbenou@outlook.fr\n",
    "\n",
    "The aim here is to build a dictionary that collects all of the exchange rates based on US dollars ($) in a given time periode."
   ]
  },
  {
   "cell_type": "markdown",
   "metadata": {},
   "source": [
    "## LIBRARIES"
   ]
  },
  {
   "cell_type": "code",
   "execution_count": 1,
   "metadata": {},
   "outputs": [],
   "source": [
    "import numpy as np             # library for matrix manipulation.\n",
    "import re                      # library for regular expressions.\n",
    "import requests                # library for requesting web pages.\n",
    "from bs4 import BeautifulSoup  # library for getting information from HTML pages.\n",
    "from ast import literal_eval   # library for interpreting python objects."
   ]
  },
  {
   "cell_type": "markdown",
   "metadata": {},
   "source": [
    "## FUNCTIONS"
   ]
  },
  {
   "cell_type": "code",
   "execution_count": null,
   "metadata": {},
   "outputs": [],
   "source": [
    "## Recognization of python objects.\n",
    "def literal_ev(row):\n",
    "    '''\n",
    "    <lit_ev> abréviation for litteral_eval, is a function which interprets \n",
    "    python object, here sets and lists.\n",
    "    \n",
    "    Parameters\n",
    "    ----------\n",
    "    row : str\n",
    "        Any character string.\n",
    "\n",
    "    Returns\n",
    "    -------\n",
    "        Python object\n",
    "        DESCRIPTION.\n",
    "\n",
    "    '''\n",
    "    if row == \"set()\":                       # Instead of '{}' to signal the presence of an empty set there is 'set()'\n",
    "        row = \"{}\"\n",
    "    else:\n",
    "        pass\n",
    "    return literal_eval(row) "
   ]
  },
  {
   "cell_type": "code",
   "execution_count": null,
   "metadata": {},
   "outputs": [],
   "source": [
    "## Getting Currency.\n",
    "pattern_currency = \"\\D+\"                     # sequence of non digit characters whose length >= 0\n",
    "prog_currency = re.compile(pattern_currency) # transforms <pattern_currency> in search criterion.\n",
    "\n",
    "def get_currency(row, name):\n",
    "    '''\n",
    "    Getting the first non-numerical character sequence of the <row> dictionary \n",
    "    at <name> key.\n",
    "\n",
    "    Parameters\n",
    "    <   ----------\n",
    "    row : dict\n",
    "        Dictionary.\n",
    "    name : str\n",
    "        One of the keys of <row>.\n",
    "\n",
    "    Returns\n",
    "    -------\n",
    "    str\n",
    "        Frst non numerical chararcter sequence.\n",
    "\n",
    "    '''\n",
    "    x = name\n",
    "    res = 'non-existent'\n",
    "    if x in list(row):\n",
    "        res= prog_currency.match(row[x]).group(0) # First sequence that matches with <pattern_currency>.\n",
    "    return res\n"
   ]
  },
  {
   "cell_type": "code",
   "execution_count": null,
   "metadata": {},
   "outputs": [],
   "source": [
    "## Getting money amount.\n",
    "pattern_amount = \"(\\d+[\\d,]*)*\\d\"               # Either sequence of number that can contains comas.\n",
    "prog_amount = re.compile(pattern_amount)        # transforms <pattern_amount> in search criterion.\n",
    "\n",
    "def get_amount(row, name):\n",
    "    '''\n",
    "    Getting the number the firtst numerical sequence of the <row> dictionnary \n",
    "    at <name> key.\n",
    "\n",
    "    Parameters\n",
    "    ----------\n",
    "    row : dict\n",
    "    Dictionary.\n",
    "    name : str\n",
    "    One of the keys of <row>.\n",
    "\n",
    "    Returns\n",
    "    -------\n",
    "    str\n",
    "    First numerical sequence.\n",
    "\n",
    "    '''\n",
    "    x = name\n",
    "    res = np.nan\n",
    "    if x in list(row):\n",
    "        y = prog_amount.search(row[x]).group(0)   # First sequence that matches with <pattern_amount>.\n",
    "        res = int(re.sub(\",\", \"\", y))\n",
    "    return res"
   ]
  },
  {
   "cell_type": "code",
   "execution_count": null,
   "metadata": {},
   "outputs": [],
   "source": [
    " ## Standadization\n",
    "def build_dict_currency(year_start, year_end):\n",
    "    '''\n",
    "    <build_dict_currency> builds a dictionary collecting all of available exchange \n",
    "    rates in the https://www.xe.com/ website at each year between <year_start> \n",
    "    and <year_end>. Precisely at the date year-01-25.\n",
    "\n",
    "    Parameters\n",
    "    ----------\n",
    "    year_start : int\n",
    "        The firtst year from which we want to collect exchange rates.\n",
    "    year_end : int\n",
    "        The last year from which we want to collect exchange rates.\n",
    "\n",
    "    Returns\n",
    "    -------\n",
    "    set_set : list\n",
    "        Dictionary indexed by year and containing at each entry a dictionary \n",
    "        that contains  all of available exchange rates at the given year \n",
    "        between <year_start> and <year_end>.\n",
    "    '''\n",
    "    set_set = dict() \n",
    "    for year in np.arange(year_start, year_end+1):\n",
    "        page = requests.get(\"https://www.xe.com/currencytables/?from=USD&\"+\\\n",
    "                            f\"date={year}-12-31\")\n",
    "        soup = BeautifulSoup(page.content, \"html.parser\")                      # accesses to the html page structure.\n",
    "        \"\"\" Use of tags to found the intersting data. \"\"\"\n",
    "        body = soup.body\n",
    "        content = body.find(id=\"content\")\n",
    "        frame_table = content.find(attrs=({\"class\": \"historicalRateTable-wrap\"}))\n",
    "        table = frame_table.find(id=\"historicalRateTbl\")\n",
    "        body_table = table.find_all(\"tr\")\n",
    "        table_list = [k.find_all(\"td\") for k in body_table]\n",
    "        set_set[str(year)] = {k[0].get_text(): float(k[3].get_text()) for\\\n",
    "                              k in table_list[1:]}\n",
    "        set_set[str(year)][\"$\"] = 1.0\n",
    "        ''' Special processing for the currencies that have different name in \n",
    "        our data and the website.'''\n",
    "        currency_list = [k[0].get_text() for k in table_list[1:]]\n",
    "        currency_ue = ['ATS','BYR', 'BGL','DEM', 'EEK', 'ESP', 'FIM', 'FRF',   # Some coutries of UE have abandonned their currency for UE currency.\n",
    "                      'IEP', 'ITL', 'LTL', 'LVL', 'PTE', 'ROL', 'SKK', 'YUM']\n",
    "        for k in currency_ue:                                                 \n",
    "            if k in currency_list:                                             # If they are present in currency list \n",
    "                pass                                                           # there is nothing to do.\n",
    "            else:                                                              # Otherwise,\n",
    "                set_set[str(year)][k] = set_set[str(year)]['EUR']              # we will associate them to the UE currency.\n",
    "        \n",
    "        corr_dict_int = {'NLG':'ANG', 'RUR':'RUB', 'TRL':'TRY', 'VEB':'VEF'}   # Some of the currencies in our data have a name different from those present in <currency_list>\n",
    "        for k in corr_dict_int:                                                # besides these currencies appear only from a certain year.\n",
    "            if corr_dict_int[k] in currency_list:                              # if the equivalent is present\n",
    "                set_set[str(year)][k] = set_set[str(year)][corr_dict_int[k]]   # we affect the equivalent exchange rate.\n",
    "            else:\n",
    "                pass\n",
    "        print(f'{year}: downloaded exchange rates.')\n",
    "    return set_set"
   ]
  }
 ],
 "metadata": {
  "kernelspec": {
   "display_name": "Python 3",
   "language": "python",
   "name": "python3"
  },
  "language_info": {
   "codemirror_mode": {
    "name": "ipython",
    "version": 3
   },
   "file_extension": ".py",
   "mimetype": "text/x-python",
   "name": "python",
   "nbconvert_exporter": "python",
   "pygments_lexer": "ipython3",
   "version": "3.8.3"
  }
 },
 "nbformat": 4,
 "nbformat_minor": 4
}
