{
 "cells": [
  {
   "cell_type": "markdown",
   "metadata": {},
   "source": [
    "#  Preprocessing \n",
    "<a id=\"begining_preprocessing\"></a>\n",
    "\n",
    "@author: Régis Gbenou <br>\n",
    "@email:  regis.gbenou@outlook.fr\n",
    "\n",
    "This code aims to make brut data workable. "
   ]
  },
  {
   "cell_type": "markdown",
   "metadata": {},
   "source": [
    "## 1 LIBRARIES"
   ]
  },
  {
   "cell_type": "code",
   "execution_count": 1,
   "metadata": {
    "scrolled": true
   },
   "outputs": [],
   "source": [
    "import numpy as np                                      # library for matrix computation.\n",
    "import pandas as pd                                     # library for data frame manipulation.\n",
    "import matplotlib.pyplot as plt                         # library for graphic plotting.\n",
    "from preprocessingFunctions import build_dict_currency  # python script containing the function which retrieves exchange rates.\n",
    "import seaborn as sns\n",
    "sns.set(style=\"ticks\", color_codes=True)"
   ]
  },
  {
   "cell_type": "markdown",
   "metadata": {},
   "source": [
    "## 2 FUNCTIONS"
   ]
  },
  {
   "cell_type": "code",
   "execution_count": 2,
   "metadata": {},
   "outputs": [
    {
     "name": "stdout",
     "output_type": "stream",
     "text": [
      "2000: downloaded exchange rates.\n",
      "2001: downloaded exchange rates.\n",
      "2002: downloaded exchange rates.\n",
      "2003: downloaded exchange rates.\n",
      "2004: downloaded exchange rates.\n",
      "2005: downloaded exchange rates.\n",
      "2006: downloaded exchange rates.\n",
      "2007: downloaded exchange rates.\n",
      "2008: downloaded exchange rates.\n",
      "2009: downloaded exchange rates.\n",
      "2010: downloaded exchange rates.\n",
      "2011: downloaded exchange rates.\n",
      "2012: downloaded exchange rates.\n",
      "2013: downloaded exchange rates.\n",
      "2014: downloaded exchange rates.\n",
      "2015: downloaded exchange rates.\n",
      "2016: downloaded exchange rates.\n",
      "2017: downloaded exchange rates.\n",
      "2018: downloaded exchange rates.\n",
      "2019: downloaded exchange rates.\n"
     ]
    }
   ],
   "source": [
    "# Collecting all of available genres in our data.\n",
    "def list_str(row, L):\n",
    "    '''\n",
    "    <list_str> adds all elements of the <row> array to the list L.\n",
    "  \n",
    "    Parameters\n",
    "    ----------\n",
    "    row : array\n",
    "        \n",
    "    L : list\n",
    "        List having all elements of row among its items.\n",
    "\n",
    "    Returns\n",
    "    -------\n",
    "    None.\n",
    "    '''    \n",
    "    for k in row.split('|'):\n",
    "        L.append(k)\n",
    "\n",
    "\n",
    "# Getting the exchange rates associated with the different currencies present in our data.\n",
    "''' Annual range of the study.'''\n",
    "YEAR_START, YEAR_END = 2000, 2019\n",
    "set_list = build_dict_currency(YEAR_START, YEAR_END)\n",
    "\n",
    "def get_coeff(row, year):\n",
    "    '''\n",
    "    <get_coeff> retrieves the coefficient associated with a given exchange rate\n",
    "    <row> at the year: <year>, we set the US dollar ($) as baseline.\n",
    "\n",
    "    Parameters\n",
    "    ----------\n",
    "    row : str\n",
    "        The non-numerical string supposed representing currency symbol.\n",
    "    year : int\n",
    "        The year at which we want knowing the exchange rate of the currency represented\n",
    "        by <row>.\n",
    "\n",
    "    Returns\n",
    "    -------\n",
    "    coeff : float\n",
    "        Exchange rate of the <row> currency against the US dollar.\n",
    "    '''\n",
    "    coeff = 1                                                          # default coefficient that does not make change from US dollars.\n",
    "    if (year>=YEAR_START and year<=YEAR_END) and row and row!='<a':\n",
    "        coeff = set_list[str(year)][row]                               # accesses to the desired exchange rate.\n",
    "    else:\n",
    "        pass      \n",
    "    return coeff    "
   ]
  },
  {
   "cell_type": "markdown",
   "metadata": {},
   "source": [
    "## 3 SCRIPT"
   ]
  },
  {
   "cell_type": "markdown",
   "metadata": {},
   "source": [
    "### 3.1  Data Cleaning"
   ]
  },
  {
   "cell_type": "code",
   "execution_count": 3,
   "metadata": {},
   "outputs": [],
   "source": [
    "#------------------------------------------------------------------------------\n",
    "df0 = pd.read_csv('../2_data/1_original/1_imdbRetrieval.csv', sep=';', dtype=str)\n",
    "df0.rename(columns={k:k.replace(' ', '_') for k in df0.columns}, inplace=True)\n",
    "\n",
    "# Elimination of NaN values\n",
    "df1 = df0[~(df0.Cumulative_Worldwide_Gross.isna() | df0.Budget.isna() |\n",
    "           df0.genre.isna() | df0.year.isna() |\n",
    "           df0.note.isna() | df0.nbre_note.isna())].copy()\n",
    "int_col_list = ['year', 'nbre_note']\n",
    "df1.loc[:, int_col_list]= df1.loc[:, int_col_list].astype(int)\n",
    "float_col_list = ['Budget', 'Cumulative_Worldwide_Gross', 'note']\n",
    "df1.loc[:, float_col_list]= df1.loc[:, float_col_list].astype(float)\n",
    "\n",
    "df1.loc[:, 'genre'] = df1.loc[:, 'genre'].apply(\n",
    "    lambda row: '|'.join(sorted(row.split('|'))))\n",
    "df1 = df1[(df1.year >= YEAR_START) & (df1.year<=YEAR_END)]\n",
    "runtime_HM_serie = df1.runtime.replace({'(?<=\\d)*h$': ':00', 'h\\s*': ':',\n",
    "                          '^(?!\\dh)':'00:', 'min':''}, regex=True)\n",
    "time_HM_serie = pd.to_datetime(runtime_HM_serie, format='%H:%M').dt\n",
    "df1.loc[:, 'runtime_min'] = time_HM_serie.hour *60 + time_HM_serie.minute"
   ]
  },
  {
   "cell_type": "markdown",
   "metadata": {},
   "source": [
    "### 3.2 Insights on gender number"
   ]
  },
  {
   "cell_type": "code",
   "execution_count": 4,
   "metadata": {},
   "outputs": [
    {
     "name": "stdout",
     "output_type": "stream",
     "text": [
      "Number of columns containing at least one N.A.N. value:  17\n",
      "Number of duplicated rows: 124\n"
     ]
    },
    {
     "data": {
      "image/png": "[encoded data removed]",
      "text/plain": [
       "<Figure size 720x360 with 1 Axes>"
      ]
     },
     "metadata": {},
     "output_type": "display_data"
    }
   ],
   "source": [
    "#------------------------------------------------------------------------------            \n",
    "'''           \n",
    "3)\n",
    "MAKING SOME OBSERVATIOPNS ON THE DATA QUALITY AND SOME INSIGHTS VIA GRAPHICS.\n",
    "'''\n",
    "# a. Data quality\n",
    "v = df0.isna().any()                                                 # boolean serie having as index <df0> columns and False value if a given column contains NaN values, True otherwise.\n",
    "print('Number of columns containing at least one N.A.N. value: ',\n",
    "      v[v].shape[0])\n",
    "\n",
    "s = df0.duplicated()                                                 # boolean serie having indexed by duplicated rows of <df0>.\n",
    "index_dup = s[s].index.values\n",
    "print('Number of duplicated rows:', index_dup.shape[0])\n",
    "\n",
    "# b. Getting all the different existent genres.\n",
    "genre_list = []\n",
    "df1[\"genre\"].apply(lambda x: list_str(x, genre_list))                # appends all 'genres' values in <df1> into the list <genre_list>\n",
    "genre_list = sorted(genre_list)\n",
    "dif_genre_list = sorted(list(set(genre_list)))                       # gets all different genres.\n",
    "\n",
    "\n",
    "# c. Building of a dictionary having the 'genres' as keys and their \n",
    "# associated count as values, and sorted by count.\n",
    "count_genres_dict = {k:genre_list.count(k) for k in dif_genre_list}\n",
    "count_genres_dict = {\n",
    "k: v for k,v in sorted(count_genres_dict.items(),\n",
    "                       key= lambda item: item[1],\n",
    "                       reverse=True)}\n",
    "# Graph Count\n",
    "genre_name_list = list(count_genres_dict.keys())\n",
    "genre_count_list = list(count_genres_dict.values())\n",
    "fig, axs = plt.subplots(figsize=(10, 5))\n",
    "axs.bar(genre_name_list, genre_count_list)\n",
    "plt.grid(axis='y', alpha=.7)\n",
    "plt.xticks(rotation=90)\n",
    "plt.xlabel(\"Genres\")\n",
    "plt.ylabel(\"Count\")\n",
    "plt.title('Count of the available genres.')\n",
    "plt.show()"
   ]
  },
  {
   "cell_type": "markdown",
   "metadata": {},
   "source": [
    "###  3.3 Getting currency"
   ]
  },
  {
   "cell_type": "code",
   "execution_count": 5,
   "metadata": {},
   "outputs": [
    {
     "data": {
      "text/html": [
       "<div>\n",
       "<style scoped>\n",
       "    .dataframe tbody tr th:only-of-type {\n",
       "        vertical-align: middle;\n",
       "    }\n",
       "\n",
       "    .dataframe tbody tr th {\n",
       "        vertical-align: top;\n",
       "    }\n",
       "\n",
       "    .dataframe thead th {\n",
       "        text-align: right;\n",
       "    }\n",
       "</style>\n",
       "<table border=\"1\" class=\"dataframe\">\n",
       "  <thead>\n",
       "    <tr style=\"text-align: right;\">\n",
       "      <th></th>\n",
       "      <th>year</th>\n",
       "      <th>Budget_curr</th>\n",
       "      <th>Budget_coef</th>\n",
       "      <th>Budget</th>\n",
       "      <th>Budget_std</th>\n",
       "    </tr>\n",
       "  </thead>\n",
       "  <tbody>\n",
       "    <tr>\n",
       "      <th>7953</th>\n",
       "      <td>2004</td>\n",
       "      <td>$</td>\n",
       "      <td>1.000000</td>\n",
       "      <td>3e+07</td>\n",
       "      <td>3e+07</td>\n",
       "    </tr>\n",
       "    <tr>\n",
       "      <th>16436</th>\n",
       "      <td>2006</td>\n",
       "      <td>$</td>\n",
       "      <td>1.000000</td>\n",
       "      <td>5.3e+06</td>\n",
       "      <td>5.3e+06</td>\n",
       "    </tr>\n",
       "    <tr>\n",
       "      <th>22595</th>\n",
       "      <td>2007</td>\n",
       "      <td>EUR</td>\n",
       "      <td>1.460044</td>\n",
       "      <td>1000</td>\n",
       "      <td>1460.04</td>\n",
       "    </tr>\n",
       "    <tr>\n",
       "      <th>30599</th>\n",
       "      <td>2008</td>\n",
       "      <td>$</td>\n",
       "      <td>1.000000</td>\n",
       "      <td>2e+07</td>\n",
       "      <td>2e+07</td>\n",
       "    </tr>\n",
       "    <tr>\n",
       "      <th>34817</th>\n",
       "      <td>2009</td>\n",
       "      <td>$</td>\n",
       "      <td>1.000000</td>\n",
       "      <td>900000</td>\n",
       "      <td>900000</td>\n",
       "    </tr>\n",
       "    <tr>\n",
       "      <th>58224</th>\n",
       "      <td>2011</td>\n",
       "      <td>SEK</td>\n",
       "      <td>0.144820</td>\n",
       "      <td>1.2e+07</td>\n",
       "      <td>1.73785e+06</td>\n",
       "    </tr>\n",
       "    <tr>\n",
       "      <th>100861</th>\n",
       "      <td>2013</td>\n",
       "      <td>ZAR</td>\n",
       "      <td>0.095286</td>\n",
       "      <td>1e+07</td>\n",
       "      <td>952864</td>\n",
       "    </tr>\n",
       "    <tr>\n",
       "      <th>95405</th>\n",
       "      <td>2013</td>\n",
       "      <td>$</td>\n",
       "      <td>1.000000</td>\n",
       "      <td>9.8e+06</td>\n",
       "      <td>9.8e+06</td>\n",
       "    </tr>\n",
       "    <tr>\n",
       "      <th>120391</th>\n",
       "      <td>2015</td>\n",
       "      <td>EUR</td>\n",
       "      <td>1.086653</td>\n",
       "      <td>3e+06</td>\n",
       "      <td>3.25996e+06</td>\n",
       "    </tr>\n",
       "    <tr>\n",
       "      <th>127802</th>\n",
       "      <td>2016</td>\n",
       "      <td>$</td>\n",
       "      <td>1.000000</td>\n",
       "      <td>250000</td>\n",
       "      <td>250000</td>\n",
       "    </tr>\n",
       "  </tbody>\n",
       "</table>\n",
       "</div>"
      ],
      "text/plain": [
       "        year Budget_curr  Budget_coef   Budget   Budget_std\n",
       "7953    2004           $     1.000000    3e+07        3e+07\n",
       "16436   2006           $     1.000000  5.3e+06      5.3e+06\n",
       "22595   2007         EUR     1.460044     1000      1460.04\n",
       "30599   2008           $     1.000000    2e+07        2e+07\n",
       "34817   2009           $     1.000000   900000       900000\n",
       "58224   2011         SEK     0.144820  1.2e+07  1.73785e+06\n",
       "100861  2013         ZAR     0.095286    1e+07       952864\n",
       "95405   2013           $     1.000000  9.8e+06      9.8e+06\n",
       "120391  2015         EUR     1.086653    3e+06  3.25996e+06\n",
       "127802  2016           $     1.000000   250000       250000"
      ]
     },
     "execution_count": 5,
     "metadata": {},
     "output_type": "execute_result"
    }
   ],
   "source": [
    "#------------------------------------------------------------------------------            \n",
    "df1.loc[:, 'Budget_coef'] = df1[[\"Budget_curr\", \"year\"]].apply(\n",
    "    lambda x: get_coeff(x[0], x[1]), axis=1)\n",
    "\n",
    "df1.loc[:, 'CWG_coef'] = df1[[\"Cumulative_Worldwide_Gross_curr\", \"year\"]].apply(\n",
    "    lambda x: get_coeff(x[0], x[1]), axis=1)\n",
    "\n",
    "\n",
    "df1.loc[:, \"Budget_std\"] = df1[\"Budget_coef\"] * df1[\"Budget\"]\n",
    "df1[\"CWG_std\"] = df1[\"CWG_coef\"] * df1[\"Cumulative_Worldwide_Gross\"]\n",
    "\n",
    "df1[[\"year\", \"Budget_curr\", \"Budget_coef\", \"Budget\", \"Budget_std\"]].sample(\n",
    "    10, random_state=1).sort_values(by='year')"
   ]
  },
  {
   "cell_type": "markdown",
   "metadata": {},
   "source": [
    "### 3.4 Storing transformed data"
   ]
  },
  {
   "cell_type": "code",
   "execution_count": 7,
   "metadata": {},
   "outputs": [],
   "source": [
    "#------------------------------------------------------------------------------            \n",
    "lcol = [\"title\", 'genre', 'year', \"country\", \"runtime_min\", 'note', 'nbre_note',\n",
    "        'Budget', 'Cumulative_Worldwide_Gross', 'Budget_curr',\n",
    "        'Cumulative_Worldwide_Gross_curr', 'Budget_std', 'CWG_std', 'Directors',\n",
    "        'Writers', 'Stars']\n",
    "df2 = df1.loc[:,lcol].drop_duplicates()\n",
    "\n",
    "df2.to_csv('../2_data/2_transformed/1_processedData.csv', sep=';', index=False)"
   ]
  },
  {
   "cell_type": "markdown",
   "metadata": {},
   "source": [
    "**[Inferences study](2_descriptiveStats.ipynb#begining_stats)**"
   ]
  }
 ],
 "metadata": {
  "kernelspec": {
   "display_name": "Python 3",
   "language": "python",
   "name": "python3"
  },
  "language_info": {
   "codemirror_mode": {
    "name": "ipython",
    "version": 3
   },
   "file_extension": ".py",
   "mimetype": "text/x-python",
   "name": "python",
   "nbconvert_exporter": "python",
   "pygments_lexer": "ipython3",
   "version": "3.8.5"
  },
  "toc": {
   "base_numbering": 1,
   "nav_menu": {},
   "number_sections": true,
   "sideBar": true,
   "skip_h1_title": false,
   "title_cell": "Table of Contents",
   "title_sidebar": "Contents",
   "toc_cell": false,
   "toc_position": {},
   "toc_section_display": true,
   "toc_window_display": false
  },
  "varInspector": {
   "cols": {
    "lenName": 16,
    "lenType": 16,
    "lenVar": 40
   },
   "kernels_config": {
    "python": {
     "delete_cmd_postfix": "",
     "delete_cmd_prefix": "del ",
     "library": "var_list.py",
     "varRefreshCmd": "print(var_dic_list())"
    },
    "r": {
     "delete_cmd_postfix": ") ",
     "delete_cmd_prefix": "rm(",
     "library": "var_list.r",
     "varRefreshCmd": "cat(var_dic_list()) "
    }
   },
   "types_to_exclude": [
    "module",
    "function",
    "builtin_function_or_method",
    "instance",
    "_Feature"
   ],
   "window_display": false
  }
 },
 "nbformat": 4,
 "nbformat_minor": 4
}
