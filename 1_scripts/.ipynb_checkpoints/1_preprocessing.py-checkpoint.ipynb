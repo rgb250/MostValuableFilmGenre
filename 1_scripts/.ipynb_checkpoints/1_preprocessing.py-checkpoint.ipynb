{
 "cells": [
  {
   "cell_type": "markdown",
   "metadata": {},
   "source": [
    "# 1 Preprocessing \n",
    "\n",
    "@author: Régis Gbenou <br>\n",
    "@email:  regis.gbenou@outlook.fr\n",
    "\n",
    "This code aims to make brut data workable. "
   ]
  },
  {
   "cell_type": "markdown",
   "metadata": {},
   "source": [
    "## LIBRARIES"
   ]
  },
  {
   "cell_type": "code",
   "execution_count": 1,
   "metadata": {
    "scrolled": true
   },
   "outputs": [],
   "source": [
    "import numpy as np                                      # library for matrix computation.\n",
    "import pandas as pd                                     # library for data frame manipulation.\n",
    "import matplotlib.pyplot as plt                         # library for graphic plotting.\n",
    "from preprocessingFunctions import build_dict_currency  # python script containing the function which retrieves exchange rates."
   ]
  },
  {
   "cell_type": "markdown",
   "metadata": {},
   "source": [
    "## FUNCTIONS"
   ]
  },
  {
   "cell_type": "code",
   "execution_count": 4,
   "metadata": {
    "scrolled": true
   },
   "outputs": [
    {
     "name": "stdout",
     "output_type": "stream",
     "text": [
      "2000: downloaded exchange rates.\n",
      "2001: downloaded exchange rates.\n",
      "2002: downloaded exchange rates.\n",
      "2003: downloaded exchange rates.\n",
      "2004: downloaded exchange rates.\n",
      "2005: downloaded exchange rates.\n",
      "2006: downloaded exchange rates.\n",
      "2007: downloaded exchange rates.\n",
      "2008: downloaded exchange rates.\n",
      "2009: downloaded exchange rates.\n",
      "2010: downloaded exchange rates.\n",
      "2011: downloaded exchange rates.\n",
      "2012: downloaded exchange rates.\n",
      "2013: downloaded exchange rates.\n",
      "2014: downloaded exchange rates.\n",
      "2015: downloaded exchange rates.\n",
      "2016: downloaded exchange rates.\n",
      "2017: downloaded exchange rates.\n",
      "2018: downloaded exchange rates.\n",
      "2019: downloaded exchange rates.\n"
     ]
    }
   ],
   "source": [
    "# Collecting all of available genres in our data.\n",
    "def list_str(row, L):\n",
    "    '''\n",
    "    <list_str> adds all elements of the <row> array to the list L.\n",
    "  \n",
    "    Parameters\n",
    "    ----------\n",
    "    row : array\n",
    "        \n",
    "    L : list\n",
    "        List having all elements of row among its items.\n",
    "\n",
    "    Returns\n",
    "    -------\n",
    "    None.\n",
    "    '''    \n",
    "    for k in row.split('|'):\n",
    "        L.append(k)\n",
    "\n",
    "\n",
    "# Getting the exchange rates associated with the different currencies present in our data.\n",
    "''' Annual range of the study.'''\n",
    "YEAR_START, YEAR_END = 2000, 2019\n",
    "set_list = build_dict_currency(YEAR_START, YEAR_END)\n",
    "\n",
    "def get_coeff(row, year):\n",
    "    '''\n",
    "    <get_coeff> retrieves the coefficient associated with a given exchange rate\n",
    "    <row> at the year: <year>, we set the US dollar ($) as baseline.\n",
    "\n",
    "    Parameters\n",
    "    ----------\n",
    "    row : str\n",
    "        The non-numerical string supposed representing currency symbol.\n",
    "    year : int\n",
    "        The year at which we want knowing the exchange rate of the currency represented\n",
    "        by <row>.\n",
    "\n",
    "    Returns\n",
    "    -------\n",
    "    coeff : float\n",
    "        Exchange rate of the <row> currency against the US dollar.\n",
    "    '''\n",
    "    coeff = 1                                                          # default coefficient that does not make change from US dollars.\n",
    "    if (year>=YEAR_START and year<=YEAR_END) and row and row!='<a':\n",
    "        coeff = set_list[str(year)][row]                               # accesses to the desired exchange rate.\n",
    "    else:\n",
    "        pass      \n",
    "    return coeff    "
   ]
  },
  {
   "cell_type": "markdown",
   "metadata": {},
   "source": [
    "## SCRIPT"
   ]
  },
  {
   "cell_type": "markdown",
   "metadata": {},
   "source": [
    "#### 1)  Data Cleaning\n",
    "THIS PART ALLOW US TO GATHER ALL THE DATA AND THEN CENTRALIZE COMPUTATIONS \n",
    "THEREWITH AVOIDING USELESS 'FOR' LOOP TO MAKE CALCULUS AT EACH YEAR."
   ]
  },
  {
   "cell_type": "code",
   "execution_count": 5,
   "metadata": {},
   "outputs": [],
   "source": [
    "#------------------------------------------------------------------------------\n",
    "'''\n",
    "1)\n",
    "THIS PART ALLOW US TO GATHER ALL THE DATA AND THEN CENTRALIZE COMPUTATIONS \n",
    "THEREWITH AVOIDING USELESS 'FOR' LOOP TO MAKE CALCULUS AT EACH YEAR.\n",
    "'''\n",
    "\n",
    "df0 = pd.read_csv('../2_data/1_original/1_imdbRetrieval.csv', sep=';', dtype=str)\n",
    "df0.rename(columns={k:k.replace(' ', '_') for k in df0.columns}, inplace=True)\n",
    "\n",
    "df1 = df0[~df0.Cumulative_Worldwide_Gross.isna() & ~df0.Budget.isna() &\n",
    "          ~df0.genre.isna() & ~df0.year.isna() &\n",
    "          ~df0.note.isna() & ~df0.nbre_note.isna() &\n",
    "          ~df0.year.str.contains('\\D', na=False)].copy()\n",
    "\n",
    "df1.loc[:, 'year'] = df1.year.astype(int)\n",
    "float_col_list = ['note', 'nbre_note', 'Budget', 'Opening_Weekend_USA',\n",
    "       'Gross_USA', 'Cumulative_Worldwide_Gross']\n",
    "df1.loc[:, float_col_list]= df1.loc[:, float_col_list].astype(float)\n",
    "\n",
    "df1.loc[:, 'genre'] = df1.loc[:, 'genre'].apply(\n",
    "    lambda row: '|'.join(sorted(row.split('|'))))\n",
    "df1 = df1[(df1.year >= YEAR_START) & (df1.year<=YEAR_END)]\n",
    "runtime_HM_serie = df1.runtime.replace({'(?<=\\d)*h$': ':00', 'h\\s*': ':',\n",
    "                          '^(?!\\dh)':'00:', 'min':''}, regex=True)\n",
    "time_HM_serie = pd.to_datetime(runtime_HM_serie, format='%H:%M').dt\n",
    "df1.loc[:, 'runtime_min'] = time_HM_serie.hour *60 + time_HM_serie.minute"
   ]
  },
  {
   "cell_type": "code",
   "execution_count": 6,
   "metadata": {},
   "outputs": [
    {
     "name": "stdout",
     "output_type": "stream",
     "text": [
      "Number of columns containing at least one N.A.N. value:  17\n",
      "Number of duplicated rows: 124\n"
     ]
    },
    {
     "data": {
      "image/png": "[encoded data removed]",
      "text/plain": [
       "<Figure size 720x360 with 1 Axes>"
      ]
     },
     "metadata": {
      "needs_background": "light"
     },
     "output_type": "display_data"
    }
   ],
   "source": [
    "#------------------------------------------------------------------------------            \n",
    "'''           \n",
    "3)\n",
    "MAKING SOME OBSERVATIOPNS ON THE DATA QUALITY AND SOME INSIGHTS VIA GRAPHICS.\n",
    "'''\n",
    "# a. Data quality\n",
    "v = df0.isna().any()                                                 # boolean serie having as index <df0> columns and False value if a given column contains NaN values, True otherwise.\n",
    "print('Number of columns containing at least one N.A.N. value: ',\n",
    "      v[v].shape[0])\n",
    "\n",
    "s = df0.duplicated()                                                 # boolean serie having indexed by duplicated rows of <df0>.\n",
    "index_dup = s[s].index.values\n",
    "print('Number of duplicated rows:', index_dup.shape[0])\n",
    "\n",
    "# b. Getting all the different existent genres.\n",
    "genre_list = []\n",
    "df1[\"genre\"].apply(lambda x: list_str(x, genre_list))                # appends all 'genres' values in <df1> into the list <genre_list>\n",
    "genre_list = sorted(genre_list)\n",
    "dif_genre_list = sorted(list(set(genre_list)))                       # gets all different genres.\n",
    "\n",
    "\n",
    "# c. Building of a dictionary having the 'genres' as keys and their \n",
    "# associated count as values, and sorted by count.\n",
    "count_genres_dict = {k:genre_list.count(k) for k in dif_genre_list}\n",
    "count_genres_dict = {\n",
    "k: v for k,v in sorted(count_genres_dict.items(),\n",
    "                       key= lambda item: item[1],\n",
    "                       reverse=True)}\n",
    "# Graph Count\n",
    "genre_name_list = list(count_genres_dict.keys())\n",
    "genre_count_list = list(count_genres_dict.values())\n",
    "fig, axs = plt.subplots(figsize=(10, 5))\n",
    "axs.bar(genre_name_list, genre_count_list)\n",
    "plt.xticks(rotation=90)\n",
    "plt.xlabel(\"Genres\")\n",
    "plt.ylabel(\"Count\")\n",
    "plt.title('Count of the available genres.')\n",
    "plt.show()"
   ]
  },
  {
   "cell_type": "code",
   "execution_count": 7,
   "metadata": {},
   "outputs": [],
   "source": [
    "#------------------------------------------------------------------------------            \n",
    "'''   \n",
    "4)\n",
    "CONVERSION OF MONEY IN US DOLLARS ($).\n",
    "'''\n",
    "\n",
    "df1.loc[:, 'Budget_coef'] = df1[[\"Budget_curr\", \"year\"]].apply(\n",
    "    lambda x: get_coeff(x[0], x[1]), axis=1)\n",
    "\n",
    "df1.loc[:, 'CWG_coef'] = df1[[\"Cumulative_Worldwide_Gross_curr\", \"year\"]].apply(\n",
    "    lambda x: get_coeff(x[0], x[1]), axis=1)\n",
    "\n",
    "\n",
    "df1.loc[:, \"Budget_std\"] = df1[\"Budget_coef\"] * df1[\"Budget\"]\n",
    "df1[\"CWG_std\"] = df1[\"CWG_coef\"] * df1[\"Cumulative_Worldwide_Gross\"]"
   ]
  },
  {
   "cell_type": "code",
   "execution_count": 8,
   "metadata": {},
   "outputs": [],
   "source": [
    "#------------------------------------------------------------------------------            \n",
    "'''   \n",
    "5)\n",
    "STORING OF THE DATA\n",
    "'''\n",
    "\n",
    "lcol = [\"title\", 'genre', 'year', \"country\", \"runtime_min\", 'note', 'nbre_note',\n",
    "        'Budget', 'Cumulative_Worldwide_Gross', 'Budget_curr',\n",
    "        'Cumulative_Worldwide_Gross_curr', 'Budget_std', 'CWG_std', 'Directors',\n",
    "        'Writers', 'Stars']\n",
    "df2 = df1.loc[:,lcol].drop_duplicates()\n",
    "\n",
    "df2.to_csv('../2_data/2_transformed/1_processedData.csv', sep=';', index=False)"
   ]
  }
 ],
 "metadata": {
  "kernelspec": {
   "display_name": "Python 3",
   "language": "python",
   "name": "python3"
  },
  "language_info": {
   "codemirror_mode": {
    "name": "ipython",
    "version": 3
   },
   "file_extension": ".py",
   "mimetype": "text/x-python",
   "name": "python",
   "nbconvert_exporter": "python",
   "pygments_lexer": "ipython3",
   "version": "3.8.3"
  }
 },
 "nbformat": 4,
 "nbformat_minor": 4
}
